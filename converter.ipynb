{
 "cells": [
  {
   "cell_type": "code",
   "execution_count": 1,
   "metadata": {},
   "outputs": [],
   "source": [
    "import pandas as pd"
   ]
  },
  {
   "cell_type": "code",
   "execution_count": 6,
   "metadata": {},
   "outputs": [],
   "source": [
    "data = pd.read_csv(\"nfo - Sheet1.csv\")\n",
    "\n",
    "#TraderID\tClientTrCode\tClientCode\n",
    "\n",
    "\n"
   ]
  },
  {
   "cell_type": "code",
   "execution_count": 8,
   "metadata": {},
   "outputs": [],
   "source": [
    "data['TraderID'] = 10548"
   ]
  },
  {
   "cell_type": "code",
   "execution_count": 9,
   "metadata": {},
   "outputs": [],
   "source": [
    "data['ClientTrCode'] = 2683052\n"
   ]
  },
  {
   "cell_type": "code",
   "execution_count": 10,
   "metadata": {},
   "outputs": [],
   "source": [
    "data['ClientCode'] = 'A200'"
   ]
  },
  {
   "cell_type": "code",
   "execution_count": 29,
   "metadata": {},
   "outputs": [],
   "source": [
    "def process_symbol(symbol):\n",
    "    \n",
    "    sym_sp = symbol.split()\n",
    "\n",
    "    # underlying = symbol[0:10] if symbol[0] == 'B' else symbol[0:6]\n",
    "    underlying = sym_sp[0]\n",
    "    month = sym_sp[1][-7:-4]\n",
    "    day = sym_sp[1][:-7]\n",
    "    year = sym_sp[1][-4:]\n",
    "    opt_type = sym_sp[2]\n",
    "    strike = \"{:.2f}\".format(float(sym_sp[3]))\n",
    "\n",
    "\n",
    "    return ''.join(['OPTIDX',underlying,month,' ',day,' ',year,opt_type,strike])\n",
    "\n",
    "\n",
    "#OPTIDXBANKNIFTYMar  9 2023PE40600.00"
   ]
  },
  {
   "cell_type": "code",
   "execution_count": 30,
   "metadata": {},
   "outputs": [
    {
     "data": {
      "text/plain": [
       "'OPTIDXBANKNIFTYMar 9 2023CE40000.00'"
      ]
     },
     "execution_count": 30,
     "metadata": {},
     "output_type": "execute_result"
    }
   ],
   "source": [
    "process_symbol('BANKNIFTY 9Mar2023 CE 40000')"
   ]
  },
  {
   "cell_type": "code",
   "execution_count": 31,
   "metadata": {},
   "outputs": [],
   "source": [
    "data['SeriesCode'] = data['CONTRACT'].apply(process_symbol)"
   ]
  },
  {
   "cell_type": "code",
   "execution_count": 33,
   "metadata": {},
   "outputs": [],
   "source": [
    "def calculate_qty(qty,bs):\n",
    "    if bs == 'B':\n",
    "        return qty * 1\n",
    "    else:\n",
    "        return qty*(-1)"
   ]
  },
  {
   "cell_type": "code",
   "execution_count": 36,
   "metadata": {},
   "outputs": [],
   "source": [
    "data['Qty'] = data.apply(lambda x : calculate_qty(x['EXECUTED QTY'],x['BUY SELL']),axis=1)"
   ]
  },
  {
   "cell_type": "code",
   "execution_count": 37,
   "metadata": {},
   "outputs": [],
   "source": [
    "data['MktRate'] = data['EXEC PRICE']"
   ]
  },
  {
   "cell_type": "code",
   "execution_count": 38,
   "metadata": {},
   "outputs": [],
   "source": [
    "# OrderNo\tTradeNo\tTradeTime\tTrType\n",
    "data['OrderNo'] = 1\n",
    "data['TradeNo'] = 1\n",
    "data['TradeTime'] = 1\n",
    "data['TrType'] = 1"
   ]
  },
  {
   "cell_type": "code",
   "execution_count": 39,
   "metadata": {},
   "outputs": [],
   "source": [
    "new_df = data[['TraderID','ClientTrCode','ClientCode','SeriesCode','Qty','MktRate','OrderNo','TradeNo','TradeTime','TrType']]"
   ]
  },
  {
   "cell_type": "code",
   "execution_count": 40,
   "metadata": {},
   "outputs": [
    {
     "data": {
      "text/html": [
       "<div>\n",
       "<style scoped>\n",
       "    .dataframe tbody tr th:only-of-type {\n",
       "        vertical-align: middle;\n",
       "    }\n",
       "\n",
       "    .dataframe tbody tr th {\n",
       "        vertical-align: top;\n",
       "    }\n",
       "\n",
       "    .dataframe thead th {\n",
       "        text-align: right;\n",
       "    }\n",
       "</style>\n",
       "<table border=\"1\" class=\"dataframe\">\n",
       "  <thead>\n",
       "    <tr style=\"text-align: right;\">\n",
       "      <th></th>\n",
       "      <th>TraderID</th>\n",
       "      <th>ClientTrCode</th>\n",
       "      <th>ClientCode</th>\n",
       "      <th>SeriesCode</th>\n",
       "      <th>Qty</th>\n",
       "      <th>MktRate</th>\n",
       "      <th>OrderNo</th>\n",
       "      <th>TradeNo</th>\n",
       "      <th>TradeTime</th>\n",
       "      <th>TrType</th>\n",
       "    </tr>\n",
       "  </thead>\n",
       "  <tbody>\n",
       "    <tr>\n",
       "      <th>0</th>\n",
       "      <td>10548</td>\n",
       "      <td>2683052</td>\n",
       "      <td>A200</td>\n",
       "      <td>OPTIDXBANKNIFTYMar 23 2023PE40000.00</td>\n",
       "      <td>25</td>\n",
       "      <td>249.20</td>\n",
       "      <td>1</td>\n",
       "      <td>1</td>\n",
       "      <td>1</td>\n",
       "      <td>1</td>\n",
       "    </tr>\n",
       "    <tr>\n",
       "      <th>1</th>\n",
       "      <td>10548</td>\n",
       "      <td>2683052</td>\n",
       "      <td>A200</td>\n",
       "      <td>OPTIDXNIFTYMar 23 2023PE17150.00</td>\n",
       "      <td>50</td>\n",
       "      <td>80.15</td>\n",
       "      <td>1</td>\n",
       "      <td>1</td>\n",
       "      <td>1</td>\n",
       "      <td>1</td>\n",
       "    </tr>\n",
       "    <tr>\n",
       "      <th>2</th>\n",
       "      <td>10548</td>\n",
       "      <td>2683052</td>\n",
       "      <td>A200</td>\n",
       "      <td>OPTIDXBANKNIFTYMar 23 2023CE40000.00</td>\n",
       "      <td>25</td>\n",
       "      <td>188.80</td>\n",
       "      <td>1</td>\n",
       "      <td>1</td>\n",
       "      <td>1</td>\n",
       "      <td>1</td>\n",
       "    </tr>\n",
       "    <tr>\n",
       "      <th>3</th>\n",
       "      <td>10548</td>\n",
       "      <td>2683052</td>\n",
       "      <td>A200</td>\n",
       "      <td>OPTIDXNIFTYMar 23 2023CE17150.00</td>\n",
       "      <td>50</td>\n",
       "      <td>63.35</td>\n",
       "      <td>1</td>\n",
       "      <td>1</td>\n",
       "      <td>1</td>\n",
       "      <td>1</td>\n",
       "    </tr>\n",
       "    <tr>\n",
       "      <th>4</th>\n",
       "      <td>10548</td>\n",
       "      <td>2683052</td>\n",
       "      <td>A200</td>\n",
       "      <td>OPTIDXNIFTYMar 23 2023CE17150.00</td>\n",
       "      <td>-50</td>\n",
       "      <td>77.95</td>\n",
       "      <td>1</td>\n",
       "      <td>1</td>\n",
       "      <td>1</td>\n",
       "      <td>1</td>\n",
       "    </tr>\n",
       "    <tr>\n",
       "      <th>5</th>\n",
       "      <td>10548</td>\n",
       "      <td>2683052</td>\n",
       "      <td>A200</td>\n",
       "      <td>OPTIDXNIFTYMar 23 2023PE17150.00</td>\n",
       "      <td>-50</td>\n",
       "      <td>72.30</td>\n",
       "      <td>1</td>\n",
       "      <td>1</td>\n",
       "      <td>1</td>\n",
       "      <td>1</td>\n",
       "    </tr>\n",
       "    <tr>\n",
       "      <th>6</th>\n",
       "      <td>10548</td>\n",
       "      <td>2683052</td>\n",
       "      <td>A200</td>\n",
       "      <td>OPTIDXBANKNIFTYMar 23 2023CE40000.00</td>\n",
       "      <td>-25</td>\n",
       "      <td>240.15</td>\n",
       "      <td>1</td>\n",
       "      <td>1</td>\n",
       "      <td>1</td>\n",
       "      <td>1</td>\n",
       "    </tr>\n",
       "    <tr>\n",
       "      <th>7</th>\n",
       "      <td>10548</td>\n",
       "      <td>2683052</td>\n",
       "      <td>A200</td>\n",
       "      <td>OPTIDXBANKNIFTYMar 23 2023PE40000.00</td>\n",
       "      <td>-25</td>\n",
       "      <td>234.05</td>\n",
       "      <td>1</td>\n",
       "      <td>1</td>\n",
       "      <td>1</td>\n",
       "      <td>1</td>\n",
       "    </tr>\n",
       "  </tbody>\n",
       "</table>\n",
       "</div>"
      ],
      "text/plain": [
       "   TraderID  ClientTrCode ClientCode                            SeriesCode  \\\n",
       "0     10548       2683052       A200  OPTIDXBANKNIFTYMar 23 2023PE40000.00   \n",
       "1     10548       2683052       A200      OPTIDXNIFTYMar 23 2023PE17150.00   \n",
       "2     10548       2683052       A200  OPTIDXBANKNIFTYMar 23 2023CE40000.00   \n",
       "3     10548       2683052       A200      OPTIDXNIFTYMar 23 2023CE17150.00   \n",
       "4     10548       2683052       A200      OPTIDXNIFTYMar 23 2023CE17150.00   \n",
       "5     10548       2683052       A200      OPTIDXNIFTYMar 23 2023PE17150.00   \n",
       "6     10548       2683052       A200  OPTIDXBANKNIFTYMar 23 2023CE40000.00   \n",
       "7     10548       2683052       A200  OPTIDXBANKNIFTYMar 23 2023PE40000.00   \n",
       "\n",
       "   Qty  MktRate  OrderNo  TradeNo  TradeTime  TrType  \n",
       "0   25   249.20        1        1          1       1  \n",
       "1   50    80.15        1        1          1       1  \n",
       "2   25   188.80        1        1          1       1  \n",
       "3   50    63.35        1        1          1       1  \n",
       "4  -50    77.95        1        1          1       1  \n",
       "5  -50    72.30        1        1          1       1  \n",
       "6  -25   240.15        1        1          1       1  \n",
       "7  -25   234.05        1        1          1       1  "
      ]
     },
     "execution_count": 40,
     "metadata": {},
     "output_type": "execute_result"
    }
   ],
   "source": [
    "new_df"
   ]
  },
  {
   "cell_type": "code",
   "execution_count": 41,
   "metadata": {},
   "outputs": [],
   "source": [
    "new_df.to_csv(\"New.csv\")"
   ]
  },
  {
   "cell_type": "code",
   "execution_count": null,
   "metadata": {},
   "outputs": [],
   "source": []
  }
 ],
 "metadata": {
  "kernelspec": {
   "display_name": "Python 3",
   "language": "python",
   "name": "python3"
  },
  "language_info": {
   "codemirror_mode": {
    "name": "ipython",
    "version": 3
   },
   "file_extension": ".py",
   "mimetype": "text/x-python",
   "name": "python",
   "nbconvert_exporter": "python",
   "pygments_lexer": "ipython3",
   "version": "3.9.13"
  },
  "orig_nbformat": 4
 },
 "nbformat": 4,
 "nbformat_minor": 2
}
